{
 "cells": [
  {
   "cell_type": "code",
   "execution_count": 36,
   "id": "2c3c18c5",
   "metadata": {},
   "outputs": [],
   "source": [
    "from sklearn.datasets import make_classification\n",
    "from sklearn.linear_model import SGDClassifier\n",
    "from sklearn.model_selection import train_test_split\n",
    "import pandas as pd\n",
    "from sklearn.metrics import log_loss\n",
    "from sklearn.utils import shuffle\n",
    "import numpy as np\n",
    "import matplotlib.pyplot as plt"
   ]
  },
  {
   "cell_type": "markdown",
   "id": "0a02b87f",
   "metadata": {},
   "source": [
    "creo un esempio di classificatori random"
   ]
  },
  {
   "cell_type": "code",
   "execution_count": 2,
   "id": "c958b4a1",
   "metadata": {},
   "outputs": [],
   "source": [
    "X, y = make_classification(n_samples=2500, n_features=6, n_informative= 2, random_state=42)"
   ]
  },
  {
   "cell_type": "code",
   "execution_count": 3,
   "id": "7cb6f9b4",
   "metadata": {},
   "outputs": [
    {
     "data": {
      "text/plain": [
       "array([[-1.2084088 ,  0.62531833, -0.22807118, -0.16927444,  1.09896257,\n",
       "        -0.06150299],\n",
       "       [ 1.59164289, -1.5138305 ,  0.90514963,  0.6308756 , -0.89726827,\n",
       "         0.72374266],\n",
       "       [-1.18093536, -2.35448292, -0.08529258,  0.01825246,  1.19916413,\n",
       "         0.08613142],\n",
       "       ...,\n",
       "       [ 0.05075254,  1.02284147, -1.13508108, -0.19044619, -1.08760317,\n",
       "        -1.21397738],\n",
       "       [-0.13169111,  0.93306661,  1.45374005,  0.0635419 ,  1.46503562,\n",
       "         1.56476875],\n",
       "       [ 2.35434471, -0.71551299,  0.71004935,  1.12149921, -1.8993702 ,\n",
       "         0.40221379]], shape=(2500, 6))"
      ]
     },
     "execution_count": 3,
     "metadata": {},
     "output_type": "execute_result"
    }
   ],
   "source": [
    "X"
   ]
  },
  {
   "cell_type": "code",
   "execution_count": 4,
   "id": "4874f568",
   "metadata": {},
   "outputs": [
    {
     "data": {
      "text/plain": [
       "array([0, 1, 0, ..., 0, 1, 1], shape=(2500,))"
      ]
     },
     "execution_count": 4,
     "metadata": {},
     "output_type": "execute_result"
    }
   ],
   "source": [
    "y"
   ]
  },
  {
   "cell_type": "markdown",
   "id": "ae3232ea",
   "metadata": {},
   "source": []
  },
  {
   "cell_type": "code",
   "execution_count": 5,
   "id": "64185f8b",
   "metadata": {},
   "outputs": [
    {
     "name": "stdout",
     "output_type": "stream",
     "text": [
      "X_train: (2000, 6), X_test: (500, 6), Y_train: (2000,), Y_test: (500,)\n"
     ]
    }
   ],
   "source": [
    "X_train, X_test, y_train, y_test = train_test_split(X,y, test_size=0.2, random_state=42)\n",
    "\n",
    "print(f'X_train: {X_train.shape}, X_test: {X_test.shape}, Y_train: {y_train.shape}, Y_test: {y_test.shape}')\n"
   ]
  },
  {
   "cell_type": "code",
   "execution_count": 6,
   "id": "57f1727b",
   "metadata": {},
   "outputs": [
    {
     "data": {
      "text/plain": [
       "array([0, 1, 0, ..., 0, 1, 1], shape=(2500,))"
      ]
     },
     "execution_count": 6,
     "metadata": {},
     "output_type": "execute_result"
    }
   ],
   "source": [
    "y"
   ]
  },
  {
   "cell_type": "markdown",
   "id": "55e9a56d",
   "metadata": {},
   "source": [
    "provo lo stocastic gradient descend"
   ]
  },
  {
   "cell_type": "code",
   "execution_count": 14,
   "id": "f3933287",
   "metadata": {},
   "outputs": [
    {
     "name": "stdout",
     "output_type": "stream",
     "text": [
      "LOSS: 0.3297762930291794\n"
     ]
    }
   ],
   "source": [
    "sgd = SGDClassifier(loss='log_loss', verbose=False, shuffle=True)\n",
    "\n",
    "sgd.fit(X_train, y_train)\n",
    "y_pred_proba = sgd.predict_proba(X_test)\n",
    "print(f\"LOSS: {log_loss(y_test, y_pred_proba)}\")"
   ]
  },
  {
   "cell_type": "markdown",
   "id": "e0af892a",
   "metadata": {},
   "source": [
    "ora creiamo una funzione per il minibatch gradient descend"
   ]
  },
  {
   "cell_type": "code",
   "execution_count": 24,
   "id": "eddd2b90",
   "metadata": {},
   "outputs": [],
   "source": [
    "def minibatch_gradient_descend(train_set, test_set, n_batches=10, epochs=10, loss='log_loss', verbose=False):\n",
    "  X_train, y_train = train_set\n",
    "  X_test, y_test = test_set\n",
    "  \n",
    "  batch_size = X_train.shape[0]/n_batches\n",
    "  log_losses = []\n",
    "  sgd = SGDClassifier(loss=loss, verbose=verbose)\n",
    "  \n",
    "  for epoch in range(epochs):\n",
    "    X_shuffled, y_shuffled = shuffle(X_train, y_train)\n",
    "    for batch in range(n_batches):\n",
    "      batch_start = int(batch*batch_size)\n",
    "      batch_end = int((batch+1)*batch_size)\n",
    "      \n",
    "      X_batch = X_shuffled[batch_start:batch_end, :]\n",
    "      y_batch = y_shuffled[batch_start:batch_end]\n",
    "      \n",
    "      classes = np.unique(y_train)\n",
    "      \n",
    "      sgd.partial_fit(X_batch, y_batch, classes = classes)\n",
    "      loss_value = log_loss(y_test, sgd.predict_proba(X_test), labels=classes)\n",
    "      log_losses.append(loss_value)\n",
    "      \n",
    "    print(f'loss epoca {epoch}: {loss_value}')\n",
    "  return (sgd, log_losses)"
   ]
  },
  {
   "cell_type": "markdown",
   "id": "0c99ba48",
   "metadata": {},
   "source": [
    "simuliamo il full batch"
   ]
  },
  {
   "cell_type": "code",
   "execution_count": 40,
   "id": "bd3b5abf",
   "metadata": {},
   "outputs": [
    {
     "name": "stdout",
     "output_type": "stream",
     "text": [
      "loss epoca 0: 2.0101301982243758\n",
      "loss epoca 1: 1.26854704201284\n",
      "loss epoca 2: 0.7877701472199501\n",
      "loss epoca 3: 0.5586373664942517\n",
      "loss epoca 4: 0.651040163268168\n",
      "loss epoca 5: 0.8676352139071255\n",
      "loss epoca 6: 0.45930019304076536\n",
      "loss epoca 7: 0.5124126682776657\n",
      "loss epoca 8: 0.4604960566587943\n",
      "loss epoca 9: 0.4344392771324322\n",
      "loss epoca 10: 0.4311762983952842\n",
      "loss epoca 11: 0.3945509033316042\n",
      "loss epoca 12: 0.4163268474968929\n",
      "loss epoca 13: 0.37264912301165715\n",
      "loss epoca 14: 0.3370388711661947\n",
      "loss epoca 15: 0.3269719486185258\n",
      "loss epoca 16: 0.3967588578772701\n",
      "loss epoca 17: 0.3302905089414964\n",
      "loss epoca 18: 0.3313206474968918\n",
      "loss epoca 19: 0.3261328851279213\n",
      "loss epoca 20: 0.3771652927691351\n",
      "loss epoca 21: 0.38945331018448825\n",
      "loss epoca 22: 0.3343045256802875\n",
      "loss epoca 23: 0.3469505661506628\n",
      "loss epoca 24: 0.32887322060816426\n",
      "loss epoca 25: 0.3317162001595538\n",
      "loss epoca 26: 0.3586048756206485\n",
      "loss epoca 27: 0.34465543365374884\n",
      "loss epoca 28: 0.3398752950946754\n",
      "loss epoca 29: 0.3355975803077388\n",
      "loss epoca 30: 0.3318224232897063\n",
      "loss epoca 31: 0.32633695393421874\n",
      "loss epoca 32: 0.31722716941646106\n",
      "loss epoca 33: 0.33989463533961983\n",
      "loss epoca 34: 0.3185718884187686\n",
      "loss epoca 35: 0.33820326200821343\n",
      "loss epoca 36: 0.3118770575776655\n",
      "loss epoca 37: 0.35193931906954135\n",
      "loss epoca 38: 0.32768900600180395\n",
      "loss epoca 39: 0.3420420937191277\n",
      "loss epoca 40: 0.337361959578985\n",
      "loss epoca 41: 0.33601637747965474\n",
      "loss epoca 42: 0.33684853239026064\n",
      "loss epoca 43: 0.32663278581804556\n",
      "loss epoca 44: 0.31370029057131\n",
      "loss epoca 45: 0.32413711263597034\n",
      "loss epoca 46: 0.3224607075883442\n",
      "loss epoca 47: 0.3417200759946043\n",
      "loss epoca 48: 0.3222824465415959\n",
      "loss epoca 49: 0.3158777616762245\n",
      "loss epoca 50: 0.309136682814595\n",
      "loss epoca 51: 0.3262685979488571\n",
      "loss epoca 52: 0.3243925632842777\n",
      "loss epoca 53: 0.35990589453541494\n",
      "loss epoca 54: 0.328510523010818\n",
      "loss epoca 55: 0.31175194424260116\n",
      "loss epoca 56: 0.3233016244417044\n",
      "loss epoca 57: 0.33883375262498416\n",
      "loss epoca 58: 0.336057978455551\n",
      "loss epoca 59: 0.33263981488130323\n",
      "loss epoca 60: 0.31702369853247275\n",
      "loss epoca 61: 0.33631729731630977\n",
      "loss epoca 62: 0.3308322964597142\n",
      "loss epoca 63: 0.3201359242862003\n",
      "loss epoca 64: 0.3148755099264026\n",
      "loss epoca 65: 0.3118096412226984\n",
      "loss epoca 66: 0.3108851948404696\n",
      "loss epoca 67: 0.31950172756063955\n",
      "loss epoca 68: 0.32098748994103504\n",
      "loss epoca 69: 0.3302970984753478\n",
      "loss epoca 70: 0.31982152022454946\n",
      "loss epoca 71: 0.31545639254987873\n",
      "loss epoca 72: 0.3191108323115818\n",
      "loss epoca 73: 0.321240979634135\n",
      "loss epoca 74: 0.32300430568770505\n",
      "loss epoca 75: 0.32332292915614985\n",
      "loss epoca 76: 0.32750138088501707\n",
      "loss epoca 77: 0.340133687386931\n",
      "loss epoca 78: 0.3106500002208154\n",
      "loss epoca 79: 0.31803142570833054\n",
      "loss epoca 80: 0.32033122872452724\n",
      "loss epoca 81: 0.3232435068014066\n",
      "loss epoca 82: 0.3262608747665878\n",
      "loss epoca 83: 0.3155029161461258\n",
      "loss epoca 84: 0.319025319183585\n",
      "loss epoca 85: 0.31406853351218833\n",
      "loss epoca 86: 0.30736869003041817\n",
      "loss epoca 87: 0.30844728005236327\n",
      "loss epoca 88: 0.31330348858325613\n",
      "loss epoca 89: 0.3115063840124064\n",
      "loss epoca 90: 0.32930607032594\n",
      "loss epoca 91: 0.3099803237717491\n",
      "loss epoca 92: 0.3089533059670007\n",
      "loss epoca 93: 0.3188471003114405\n",
      "loss epoca 94: 0.32228821041884853\n",
      "loss epoca 95: 0.33208450611414214\n",
      "loss epoca 96: 0.30772348562404056\n",
      "loss epoca 97: 0.3102272270938136\n",
      "loss epoca 98: 0.31411100986087714\n",
      "loss epoca 99: 0.31633382807236354\n",
      "loss epoca 100: 0.32349334981801503\n",
      "loss epoca 101: 0.31450348498796227\n",
      "loss epoca 102: 0.3136836732103003\n",
      "loss epoca 103: 0.3274875180484544\n",
      "loss epoca 104: 0.31379810776160705\n",
      "loss epoca 105: 0.31670249829375746\n",
      "loss epoca 106: 0.3174430232646782\n",
      "loss epoca 107: 0.30945794282109096\n",
      "loss epoca 108: 0.3245382113722146\n",
      "loss epoca 109: 0.3144762149099786\n",
      "loss epoca 110: 0.3078185769784949\n",
      "loss epoca 111: 0.3135996899917914\n",
      "loss epoca 112: 0.3167995489140999\n",
      "loss epoca 113: 0.3254054445743718\n",
      "loss epoca 114: 0.31896575132218646\n",
      "loss epoca 115: 0.32062379881454844\n",
      "loss epoca 116: 0.3216998511126616\n",
      "loss epoca 117: 0.3174171102523117\n",
      "loss epoca 118: 0.31194406564273175\n",
      "loss epoca 119: 0.3213066366877979\n",
      "loss epoca 120: 0.3144412732017909\n",
      "loss epoca 121: 0.3157019830390142\n",
      "loss epoca 122: 0.3265905290311425\n",
      "loss epoca 123: 0.3183704766571524\n",
      "loss epoca 124: 0.3180404123891526\n",
      "loss epoca 125: 0.31311443249387394\n",
      "loss epoca 126: 0.313794399893349\n",
      "loss epoca 127: 0.3151877187680673\n",
      "loss epoca 128: 0.311934537120197\n",
      "loss epoca 129: 0.31057353370688534\n",
      "loss epoca 130: 0.3143944807180479\n",
      "loss epoca 131: 0.31983444038795417\n",
      "loss epoca 132: 0.31013662976956874\n",
      "loss epoca 133: 0.30987239213040113\n",
      "loss epoca 134: 0.3144148106495772\n",
      "loss epoca 135: 0.31944042137215206\n",
      "loss epoca 136: 0.3118331106771235\n",
      "loss epoca 137: 0.323239058524986\n",
      "loss epoca 138: 0.3078390587230346\n",
      "loss epoca 139: 0.3157657419344693\n",
      "loss epoca 140: 0.31623555780584683\n",
      "loss epoca 141: 0.3133325298196024\n",
      "loss epoca 142: 0.3078600003181765\n",
      "loss epoca 143: 0.320997267348671\n",
      "loss epoca 144: 0.31547078506698306\n",
      "loss epoca 145: 0.3214502034220536\n",
      "loss epoca 146: 0.3237307172820022\n",
      "loss epoca 147: 0.3174754184477585\n",
      "loss epoca 148: 0.31412804310022296\n",
      "loss epoca 149: 0.3083475898751751\n",
      "loss epoca 150: 0.31374232086159337\n",
      "loss epoca 151: 0.3137404729955367\n",
      "loss epoca 152: 0.31673569207175456\n",
      "loss epoca 153: 0.32068413646105975\n",
      "loss epoca 154: 0.3187411399027311\n",
      "loss epoca 155: 0.31706288743552485\n",
      "loss epoca 156: 0.312873892705192\n",
      "loss epoca 157: 0.3117554928428251\n",
      "loss epoca 158: 0.3273981855086974\n",
      "loss epoca 159: 0.3156510325434159\n",
      "loss epoca 160: 0.3121288493543401\n",
      "loss epoca 161: 0.31587889121986873\n",
      "loss epoca 162: 0.3105755138281242\n",
      "loss epoca 163: 0.31659769269419014\n",
      "loss epoca 164: 0.31099687929549064\n",
      "loss epoca 165: 0.3113519979135386\n",
      "loss epoca 166: 0.3148333786064455\n",
      "loss epoca 167: 0.30901240200802305\n",
      "loss epoca 168: 0.3184790508549984\n",
      "loss epoca 169: 0.31378885351859714\n",
      "loss epoca 170: 0.3130725020166357\n",
      "loss epoca 171: 0.3172551958482059\n",
      "loss epoca 172: 0.311205042530925\n",
      "loss epoca 173: 0.31607083216683396\n",
      "loss epoca 174: 0.3091896365831826\n",
      "loss epoca 175: 0.3113195160499325\n",
      "loss epoca 176: 0.3195396682507551\n",
      "loss epoca 177: 0.311119946818831\n",
      "loss epoca 178: 0.31274791647321104\n",
      "loss epoca 179: 0.31708287279662567\n",
      "loss epoca 180: 0.3102636745258744\n",
      "loss epoca 181: 0.3084828590629363\n",
      "loss epoca 182: 0.31754017675356494\n",
      "loss epoca 183: 0.30772496421602213\n",
      "loss epoca 184: 0.30698474520935276\n",
      "loss epoca 185: 0.31147717649696116\n",
      "loss epoca 186: 0.3165116768194814\n",
      "loss epoca 187: 0.31457028602442666\n",
      "loss epoca 188: 0.3102018442339256\n",
      "loss epoca 189: 0.31836395392792527\n",
      "loss epoca 190: 0.3126595959428016\n",
      "loss epoca 191: 0.31675947421087064\n",
      "loss epoca 192: 0.3121022904367794\n",
      "loss epoca 193: 0.31233042265475447\n",
      "loss epoca 194: 0.3117604511528613\n",
      "loss epoca 195: 0.3118926286489088\n",
      "loss epoca 196: 0.3191163816932302\n",
      "loss epoca 197: 0.3094813988394323\n",
      "loss epoca 198: 0.3110780349820818\n",
      "loss epoca 199: 0.311491511658042\n"
     ]
    }
   ],
   "source": [
    "full_gd, full_gd_loss = minibatch_gradient_descend((X_train, y_train), (X_test, y_test), n_batches=1, epochs=200)"
   ]
  },
  {
   "cell_type": "code",
   "execution_count": 30,
   "id": "09d53e9e",
   "metadata": {},
   "outputs": [
    {
     "name": "stdout",
     "output_type": "stream",
     "text": [
      "loss epoca 0: 1.7830934402135832\n",
      "loss epoca 1: 1.0428741256829446\n",
      "loss epoca 2: 0.9120897664023881\n",
      "loss epoca 3: 0.7086782685926504\n",
      "loss epoca 4: 0.7113695801255723\n",
      "loss epoca 5: 0.42842203298769016\n",
      "loss epoca 6: 0.5326389333414691\n",
      "loss epoca 7: 0.3961612413586173\n",
      "loss epoca 8: 0.32331958094007884\n",
      "loss epoca 9: 0.3965623235136129\n",
      "loss epoca 10: 0.5867627473086571\n",
      "loss epoca 11: 0.41831712902191326\n",
      "loss epoca 12: 0.3820898729557151\n",
      "loss epoca 13: 0.4155518586300137\n",
      "loss epoca 14: 0.3652093327915434\n",
      "loss epoca 15: 0.341802888343767\n",
      "loss epoca 16: 0.3747377835646255\n",
      "loss epoca 17: 0.3909643099923137\n",
      "loss epoca 18: 0.387649748385183\n",
      "loss epoca 19: 0.3401751872036715\n",
      "loss epoca 20: 0.328350750974322\n",
      "loss epoca 21: 0.3518006112801195\n",
      "loss epoca 22: 0.3629796186857717\n",
      "loss epoca 23: 0.3584124892229071\n",
      "loss epoca 24: 0.36570670631219077\n",
      "loss epoca 25: 0.37143356643505593\n",
      "loss epoca 26: 0.3393571344616071\n",
      "loss epoca 27: 0.3081469791056158\n",
      "loss epoca 28: 0.3251638689012334\n",
      "loss epoca 29: 0.31919872178997355\n",
      "loss epoca 30: 0.3357910408931606\n",
      "loss epoca 31: 0.33056385711031355\n",
      "loss epoca 32: 0.40421862855398283\n",
      "loss epoca 33: 0.3555195358812556\n",
      "loss epoca 34: 0.342404965566076\n",
      "loss epoca 35: 0.35215292227071493\n",
      "loss epoca 36: 0.3218283627543649\n",
      "loss epoca 37: 0.31527252937587436\n",
      "loss epoca 38: 0.3126349433890981\n",
      "loss epoca 39: 0.34693684264016506\n",
      "loss epoca 40: 0.3376815889379225\n",
      "loss epoca 41: 0.3257276510794507\n",
      "loss epoca 42: 0.30783485355450896\n",
      "loss epoca 43: 0.3165258723488337\n",
      "loss epoca 44: 0.3290388894994536\n",
      "loss epoca 45: 0.3175095796066757\n",
      "loss epoca 46: 0.3295964961972393\n",
      "loss epoca 47: 0.34080462771571446\n",
      "loss epoca 48: 0.3071048405251845\n",
      "loss epoca 49: 0.32663226818445507\n",
      "loss epoca 50: 0.3170808075238624\n",
      "loss epoca 51: 0.32071399391961813\n",
      "loss epoca 52: 0.31312108545820994\n",
      "loss epoca 53: 0.3256518563046055\n",
      "loss epoca 54: 0.31133686446622405\n",
      "loss epoca 55: 0.3333921767365845\n",
      "loss epoca 56: 0.3231419422262192\n",
      "loss epoca 57: 0.3239594515603291\n",
      "loss epoca 58: 0.3254556520976925\n",
      "loss epoca 59: 0.31873006279313226\n",
      "loss epoca 60: 0.3179240874738405\n",
      "loss epoca 61: 0.31810854017609835\n",
      "loss epoca 62: 0.3086288836088757\n",
      "loss epoca 63: 0.30803152047533766\n",
      "loss epoca 64: 0.3282628028307408\n",
      "loss epoca 65: 0.3104032029011823\n",
      "loss epoca 66: 0.3146249166312268\n",
      "loss epoca 67: 0.3105793869299897\n",
      "loss epoca 68: 0.323028929039302\n",
      "loss epoca 69: 0.3295643314959141\n",
      "loss epoca 70: 0.30635978933444746\n",
      "loss epoca 71: 0.3202781805547299\n",
      "loss epoca 72: 0.33244920683042833\n",
      "loss epoca 73: 0.3325611328533099\n",
      "loss epoca 74: 0.32841273036333074\n",
      "loss epoca 75: 0.33060372663380666\n",
      "loss epoca 76: 0.3215104560579343\n",
      "loss epoca 77: 0.3164298843995943\n",
      "loss epoca 78: 0.3170609430406462\n",
      "loss epoca 79: 0.31033326943377604\n",
      "loss epoca 80: 0.3158137833676607\n",
      "loss epoca 81: 0.3227777736859654\n",
      "loss epoca 82: 0.31694279061241226\n",
      "loss epoca 83: 0.3166586062608256\n",
      "loss epoca 84: 0.32985839547897067\n",
      "loss epoca 85: 0.3187652841280794\n",
      "loss epoca 86: 0.3125664766664669\n",
      "loss epoca 87: 0.32462149026576165\n",
      "loss epoca 88: 0.30717575987705537\n",
      "loss epoca 89: 0.3114924261532251\n",
      "loss epoca 90: 0.3141859048320228\n",
      "loss epoca 91: 0.31583019065519463\n",
      "loss epoca 92: 0.3170804245524721\n",
      "loss epoca 93: 0.31398826898794957\n",
      "loss epoca 94: 0.3306996571664389\n",
      "loss epoca 95: 0.30540557027852877\n",
      "loss epoca 96: 0.3212154123266823\n",
      "loss epoca 97: 0.3128722065192962\n",
      "loss epoca 98: 0.30880679947666045\n",
      "loss epoca 99: 0.3182688743849895\n"
     ]
    }
   ],
   "source": [
    "stochastic_gd, stochastic_gd_loss = minibatch_gradient_descend((X_train, y_train), (X_test, y_test), n_batches=X_train.shape[0], epochs=100)"
   ]
  },
  {
   "cell_type": "code",
   "execution_count": 32,
   "id": "706d5953",
   "metadata": {},
   "outputs": [
    {
     "name": "stdout",
     "output_type": "stream",
     "text": [
      "loss epoca 0: 1.7506826342473982\n",
      "loss epoca 1: 0.9776716379058333\n",
      "loss epoca 2: 1.1149519320721777\n",
      "loss epoca 3: 1.545612433435408\n",
      "loss epoca 4: 0.5643287036219059\n",
      "loss epoca 5: 0.415074738835478\n",
      "loss epoca 6: 0.4655428628296133\n",
      "loss epoca 7: 0.4601725214777553\n",
      "loss epoca 8: 0.43334321425229094\n",
      "loss epoca 9: 0.34712938442736846\n",
      "loss epoca 10: 0.38082209034682873\n",
      "loss epoca 11: 0.4209619506183046\n",
      "loss epoca 12: 0.38627020331819617\n",
      "loss epoca 13: 0.35721614942182456\n",
      "loss epoca 14: 0.36963459913661645\n",
      "loss epoca 15: 0.31108201491211995\n",
      "loss epoca 16: 0.3434287585906193\n",
      "loss epoca 17: 0.35107610650366555\n",
      "loss epoca 18: 0.33308515741321437\n",
      "loss epoca 19: 0.38325797285334934\n",
      "loss epoca 20: 0.3759033695500094\n",
      "loss epoca 21: 0.3508520639299423\n",
      "loss epoca 22: 0.35998820968904627\n",
      "loss epoca 23: 0.36263531906902646\n",
      "loss epoca 24: 0.3432813762982839\n",
      "loss epoca 25: 0.35173156864698907\n",
      "loss epoca 26: 0.35217610735206023\n",
      "loss epoca 27: 0.33122288007174\n",
      "loss epoca 28: 0.340574562016962\n",
      "loss epoca 29: 0.35987413568946874\n",
      "loss epoca 30: 0.33681661843755584\n",
      "loss epoca 31: 0.3242216678204889\n",
      "loss epoca 32: 0.3565864956900449\n",
      "loss epoca 33: 0.3552368419083765\n",
      "loss epoca 34: 0.3508298322937925\n",
      "loss epoca 35: 0.31508199746367327\n",
      "loss epoca 36: 0.30637552503954923\n",
      "loss epoca 37: 0.34146098154778043\n",
      "loss epoca 38: 0.3364441142083539\n",
      "loss epoca 39: 0.3308189675533635\n",
      "loss epoca 40: 0.3483395758514823\n",
      "loss epoca 41: 0.3516882546436339\n",
      "loss epoca 42: 0.3133666460741223\n",
      "loss epoca 43: 0.3366557057398881\n",
      "loss epoca 44: 0.31499414752924715\n",
      "loss epoca 45: 0.3366471280504946\n",
      "loss epoca 46: 0.31909882189338656\n",
      "loss epoca 47: 0.3240985788472852\n",
      "loss epoca 48: 0.32023198032193134\n",
      "loss epoca 49: 0.30875577670526455\n",
      "loss epoca 50: 0.3285442868086829\n",
      "loss epoca 51: 0.32644774340529487\n",
      "loss epoca 52: 0.33074831571618324\n",
      "loss epoca 53: 0.3174693706684433\n",
      "loss epoca 54: 0.3221028045148349\n",
      "loss epoca 55: 0.30959939030739814\n",
      "loss epoca 56: 0.33256422495070365\n",
      "loss epoca 57: 0.33204096362640956\n",
      "loss epoca 58: 0.3207441529182253\n",
      "loss epoca 59: 0.3115835813850367\n",
      "loss epoca 60: 0.32272349814006146\n",
      "loss epoca 61: 0.3204315716658107\n",
      "loss epoca 62: 0.3263159580571503\n",
      "loss epoca 63: 0.3163267587120949\n",
      "loss epoca 64: 0.3062492578821606\n",
      "loss epoca 65: 0.3053347117221598\n",
      "loss epoca 66: 0.3185421274692204\n",
      "loss epoca 67: 0.3184454669117462\n",
      "loss epoca 68: 0.31558674531619335\n",
      "loss epoca 69: 0.31102997944462163\n",
      "loss epoca 70: 0.31298446324926193\n",
      "loss epoca 71: 0.3352441822665803\n",
      "loss epoca 72: 0.31387422830973305\n",
      "loss epoca 73: 0.32438863335794255\n",
      "loss epoca 74: 0.3152338199294637\n",
      "loss epoca 75: 0.32593714446264094\n",
      "loss epoca 76: 0.3176686030612957\n",
      "loss epoca 77: 0.3212342123308741\n",
      "loss epoca 78: 0.3224960362099402\n",
      "loss epoca 79: 0.32107169135281644\n",
      "loss epoca 80: 0.3245624669274239\n",
      "loss epoca 81: 0.3273392031770981\n",
      "loss epoca 82: 0.31350845348760936\n",
      "loss epoca 83: 0.3186573836480719\n",
      "loss epoca 84: 0.31944984999791753\n",
      "loss epoca 85: 0.325987398569761\n",
      "loss epoca 86: 0.3160098633801077\n",
      "loss epoca 87: 0.32384336869231106\n",
      "loss epoca 88: 0.30931576604587036\n",
      "loss epoca 89: 0.3299164705433691\n",
      "loss epoca 90: 0.3067840642840835\n",
      "loss epoca 91: 0.32784284981821515\n",
      "loss epoca 92: 0.3217969223179895\n",
      "loss epoca 93: 0.32223220135374586\n",
      "loss epoca 94: 0.31360658394128005\n",
      "loss epoca 95: 0.3188083887116377\n",
      "loss epoca 96: 0.31969767196234733\n",
      "loss epoca 97: 0.31832688450057745\n",
      "loss epoca 98: 0.31429968199127256\n",
      "loss epoca 99: 0.31515300945285707\n"
     ]
    }
   ],
   "source": [
    "mini_batch_gd, mini_batch_gd_loss = minibatch_gradient_descend((X_train, y_train), (X_test, y_test), n_batches=20, epochs=100)"
   ]
  },
  {
   "cell_type": "code",
   "execution_count": 41,
   "id": "8b63ae34",
   "metadata": {},
   "outputs": [
    {
     "data": {
      "text/plain": [
       "(0.0, 200.0)"
      ]
     },
     "execution_count": 41,
     "metadata": {},
     "output_type": "execute_result"
    },
    {
     "data": {
      "image/png": "[encoded data removed]",
      "text/plain": [
       "<Figure size 640x480 with 1 Axes>"
      ]
     },
     "metadata": {},
     "output_type": "display_data"
    }
   ],
   "source": [
    "plt.plot(full_gd_loss, label=\"full\")\n",
    "plt.plot(stochastic_gd_loss, label=\"stochastic\")\n",
    "plt.plot(mini_batch_gd_loss, label=\"mini batch\")\n",
    "plt.legend()\n",
    "plt.xlim(xmin=0, xmax=200)"
   ]
  },
  {
   "cell_type": "markdown",
   "id": "05ff30db",
   "metadata": {},
   "source": [
    "lo stochastic gradient descend è più lento rispetto a minibatch e full, per questo è consigliabile scegliere tra queste 2, ma per ragiioni di memoria il minibatch è preferibile"
   ]
  }
 ],
 "metadata": {
  "kernelspec": {
   "display_name": "Python 3",
   "language": "python",
   "name": "python3"
  },
  "language_info": {
   "codemirror_mode": {
    "name": "ipython",
    "version": 3
   },
   "file_extension": ".py",
   "mimetype": "text/x-python",
   "name": "python",
   "nbconvert_exporter": "python",
   "pygments_lexer": "ipython3",
   "version": "3.13.5"
  }
 },
 "nbformat": 4,
 "nbformat_minor": 5
}
