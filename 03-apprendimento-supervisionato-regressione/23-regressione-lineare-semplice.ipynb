{
 "cells": [
  {
   "cell_type": "markdown",
   "id": "c9e0e735",
   "metadata": {},
   "source": [
    "La regressione lineare semplice è il primo modello di machine learning che si apprende, si tratta di trasformare i dati in punti su un grafico, dove gli input sono collegati ai target e trovare una funzione lineare capace di approssimare nel modo migliore i risultati.\n",
    "Per verificare la buona riuscita si utilizzano delle metriche capaci di verificare l'errore e di dare un punteggio alla variabilità del modello.\n",
    "Ma iniziamo con un esempio a 2 dimensioni"
   ]
  },
  {
   "cell_type": "code",
   "execution_count": 1,
   "id": "fc295338",
   "metadata": {},
   "outputs": [],
   "source": [
    "import pandas as pd"
   ]
  },
  {
   "cell_type": "markdown",
   "id": "2123f17e",
   "metadata": {},
   "source": [
    "il csv è separato da virgola, quindi non ho bisogno di modificare il parametro sep, userò la colonna 0 (TV) e la colonna 3 (Sales) e addestrerò un modello lineare che associa le vendite alle pubblicità in TV"
   ]
  },
  {
   "cell_type": "code",
   "execution_count": 2,
   "id": "f47d2618",
   "metadata": {},
   "outputs": [
    {
     "data": {
      "text/html": [
       "<div>\n",
       "<style scoped>\n",
       "    .dataframe tbody tr th:only-of-type {\n",
       "        vertical-align: middle;\n",
       "    }\n",
       "\n",
       "    .dataframe tbody tr th {\n",
       "        vertical-align: top;\n",
       "    }\n",
       "\n",
       "    .dataframe thead th {\n",
       "        text-align: right;\n",
       "    }\n",
       "</style>\n",
       "<table border=\"1\" class=\"dataframe\">\n",
       "  <thead>\n",
       "    <tr style=\"text-align: right;\">\n",
       "      <th></th>\n",
       "      <th>TV</th>\n",
       "      <th>Sales</th>\n",
       "    </tr>\n",
       "  </thead>\n",
       "  <tbody>\n",
       "    <tr>\n",
       "      <th>0</th>\n",
       "      <td>230.1</td>\n",
       "      <td>22.1</td>\n",
       "    </tr>\n",
       "    <tr>\n",
       "      <th>1</th>\n",
       "      <td>44.5</td>\n",
       "      <td>10.4</td>\n",
       "    </tr>\n",
       "    <tr>\n",
       "      <th>2</th>\n",
       "      <td>17.2</td>\n",
       "      <td>12.0</td>\n",
       "    </tr>\n",
       "    <tr>\n",
       "      <th>3</th>\n",
       "      <td>151.5</td>\n",
       "      <td>16.5</td>\n",
       "    </tr>\n",
       "    <tr>\n",
       "      <th>4</th>\n",
       "      <td>180.8</td>\n",
       "      <td>17.9</td>\n",
       "    </tr>\n",
       "    <tr>\n",
       "      <th>...</th>\n",
       "      <td>...</td>\n",
       "      <td>...</td>\n",
       "    </tr>\n",
       "    <tr>\n",
       "      <th>195</th>\n",
       "      <td>38.2</td>\n",
       "      <td>7.6</td>\n",
       "    </tr>\n",
       "    <tr>\n",
       "      <th>196</th>\n",
       "      <td>94.2</td>\n",
       "      <td>14.0</td>\n",
       "    </tr>\n",
       "    <tr>\n",
       "      <th>197</th>\n",
       "      <td>177.0</td>\n",
       "      <td>14.8</td>\n",
       "    </tr>\n",
       "    <tr>\n",
       "      <th>198</th>\n",
       "      <td>283.6</td>\n",
       "      <td>25.5</td>\n",
       "    </tr>\n",
       "    <tr>\n",
       "      <th>199</th>\n",
       "      <td>232.1</td>\n",
       "      <td>18.4</td>\n",
       "    </tr>\n",
       "  </tbody>\n",
       "</table>\n",
       "<p>200 rows × 2 columns</p>\n",
       "</div>"
      ],
      "text/plain": [
       "        TV  Sales\n",
       "0    230.1   22.1\n",
       "1     44.5   10.4\n",
       "2     17.2   12.0\n",
       "3    151.5   16.5\n",
       "4    180.8   17.9\n",
       "..     ...    ...\n",
       "195   38.2    7.6\n",
       "196   94.2   14.0\n",
       "197  177.0   14.8\n",
       "198  283.6   25.5\n",
       "199  232.1   18.4\n",
       "\n",
       "[200 rows x 2 columns]"
      ]
     },
     "execution_count": 2,
     "metadata": {},
     "output_type": "execute_result"
    }
   ],
   "source": [
    "advertising = pd.read_csv('../00-data/advertising.csv', usecols=[0,3]) #names=['Television', 'Sales']\n",
    "\n",
    "advertising"
   ]
  },
  {
   "cell_type": "code",
   "execution_count": 3,
   "id": "f6b4b3f8",
   "metadata": {},
   "outputs": [
    {
     "data": {
      "text/plain": [
       "(200, 2)"
      ]
     },
     "execution_count": 3,
     "metadata": {},
     "output_type": "execute_result"
    }
   ],
   "source": [
    "advertising.shape"
   ]
  },
  {
   "cell_type": "code",
   "execution_count": 4,
   "id": "04a09d5f",
   "metadata": {},
   "outputs": [
    {
     "name": "stdout",
     "output_type": "stream",
     "text": [
      "[[230.1]\n",
      " [ 44.5]\n",
      " [ 17.2]\n",
      " [151.5]\n",
      " [180.8]\n",
      " [  8.7]\n",
      " [ 57.5]\n",
      " [120.2]\n",
      " [  8.6]\n",
      " [199.8]\n",
      " [ 66.1]\n",
      " [214.7]\n",
      " [ 23.8]\n",
      " [ 97.5]\n",
      " [204.1]\n",
      " [195.4]\n",
      " [ 67.8]\n",
      " [281.4]\n",
      " [ 69.2]\n",
      " [147.3]\n",
      " [218.4]\n",
      " [237.4]\n",
      " [ 13.2]\n",
      " [228.3]\n",
      " [ 62.3]\n",
      " [262.9]\n",
      " [142.9]\n",
      " [240.1]\n",
      " [248.8]\n",
      " [ 70.6]\n",
      " [292.9]\n",
      " [112.9]\n",
      " [ 97.2]\n",
      " [265.6]\n",
      " [ 95.7]\n",
      " [290.7]\n",
      " [266.9]\n",
      " [ 74.7]\n",
      " [ 43.1]\n",
      " [228. ]\n",
      " [202.5]\n",
      " [177. ]\n",
      " [293.6]\n",
      " [206.9]\n",
      " [ 25.1]\n",
      " [175.1]\n",
      " [ 89.7]\n",
      " [239.9]\n",
      " [227.2]\n",
      " [ 66.9]\n",
      " [199.8]\n",
      " [100.4]\n",
      " [216.4]\n",
      " [182.6]\n",
      " [262.7]\n",
      " [198.9]\n",
      " [  7.3]\n",
      " [136.2]\n",
      " [210.8]\n",
      " [210.7]\n",
      " [ 53.5]\n",
      " [261.3]\n",
      " [239.3]\n",
      " [102.7]\n",
      " [131.1]\n",
      " [ 69. ]\n",
      " [ 31.5]\n",
      " [139.3]\n",
      " [237.4]\n",
      " [216.8]\n",
      " [199.1]\n",
      " [109.8]\n",
      " [ 26.8]\n",
      " [129.4]\n",
      " [213.4]\n",
      " [ 16.9]\n",
      " [ 27.5]\n",
      " [120.5]\n",
      " [  5.4]\n",
      " [116. ]\n",
      " [ 76.4]\n",
      " [239.8]\n",
      " [ 75.3]\n",
      " [ 68.4]\n",
      " [213.5]\n",
      " [193.2]\n",
      " [ 76.3]\n",
      " [110.7]\n",
      " [ 88.3]\n",
      " [109.8]\n",
      " [134.3]\n",
      " [ 28.6]\n",
      " [217.7]\n",
      " [250.9]\n",
      " [107.4]\n",
      " [163.3]\n",
      " [197.6]\n",
      " [184.9]\n",
      " [289.7]\n",
      " [135.2]\n",
      " [222.4]\n",
      " [296.4]\n",
      " [280.2]\n",
      " [187.9]\n",
      " [238.2]\n",
      " [137.9]\n",
      " [ 25. ]\n",
      " [ 90.4]\n",
      " [ 13.1]\n",
      " [255.4]\n",
      " [225.8]\n",
      " [241.7]\n",
      " [175.7]\n",
      " [209.6]\n",
      " [ 78.2]\n",
      " [ 75.1]\n",
      " [139.2]\n",
      " [ 76.4]\n",
      " [125.7]\n",
      " [ 19.4]\n",
      " [141.3]\n",
      " [ 18.8]\n",
      " [224. ]\n",
      " [123.1]\n",
      " [229.5]\n",
      " [ 87.2]\n",
      " [  7.8]\n",
      " [ 80.2]\n",
      " [220.3]\n",
      " [ 59.6]\n",
      " [  0.7]\n",
      " [265.2]\n",
      " [  8.4]\n",
      " [219.8]\n",
      " [ 36.9]\n",
      " [ 48.3]\n",
      " [ 25.6]\n",
      " [273.7]\n",
      " [ 43. ]\n",
      " [184.9]\n",
      " [ 73.4]\n",
      " [193.7]\n",
      " [220.5]\n",
      " [104.6]\n",
      " [ 96.2]\n",
      " [140.3]\n",
      " [240.1]\n",
      " [243.2]\n",
      " [ 38. ]\n",
      " [ 44.7]\n",
      " [280.7]\n",
      " [121. ]\n",
      " [197.6]\n",
      " [171.3]\n",
      " [187.8]\n",
      " [  4.1]\n",
      " [ 93.9]\n",
      " [149.8]\n",
      " [ 11.7]\n",
      " [131.7]\n",
      " [172.5]\n",
      " [ 85.7]\n",
      " [188.4]\n",
      " [163.5]\n",
      " [117.2]\n",
      " [234.5]\n",
      " [ 17.9]\n",
      " [206.8]\n",
      " [215.4]\n",
      " [284.3]\n",
      " [ 50. ]\n",
      " [164.5]\n",
      " [ 19.6]\n",
      " [168.4]\n",
      " [222.4]\n",
      " [276.9]\n",
      " [248.4]\n",
      " [170.2]\n",
      " [276.7]\n",
      " [165.6]\n",
      " [156.6]\n",
      " [218.5]\n",
      " [ 56.2]\n",
      " [287.6]\n",
      " [253.8]\n",
      " [205. ]\n",
      " [139.5]\n",
      " [191.1]\n",
      " [286. ]\n",
      " [ 18.7]\n",
      " [ 39.5]\n",
      " [ 75.5]\n",
      " [ 17.2]\n",
      " [166.8]\n",
      " [149.7]\n",
      " [ 38.2]\n",
      " [ 94.2]\n",
      " [177. ]\n",
      " [283.6]\n",
      " [232.1]]\n",
      "[22.1 10.4 12.  16.5 17.9  7.2 11.8 13.2  4.8 15.6 12.6 17.4  9.2 13.7\n",
      " 19.  22.4 12.5 24.4 11.3 14.6 18.  17.5  5.6 20.5  9.7 17.  15.  20.9\n",
      " 18.9 10.5 21.4 11.9 13.2 17.4 11.9 17.8 25.4 14.7 10.1 21.5 16.6 17.1\n",
      " 20.7 17.9  8.5 16.1 10.6 23.2 19.8  9.7 16.4 10.7 22.6 21.2 20.2 23.7\n",
      "  5.5 13.2 23.8 18.4  8.1 24.2 20.7 14.  16.  11.3 11.  13.4 18.9 22.3\n",
      " 18.3 12.4  8.8 11.  17.   8.7  6.9 14.2  5.3 11.  11.8 17.3 11.3 13.6\n",
      " 21.7 20.2 12.  16.  12.9 16.7 14.   7.3 19.4 22.2 11.5 16.9 16.7 20.5\n",
      " 25.4 17.2 16.7 23.8 19.8 19.7 20.7 15.   7.2 12.   5.3 19.8 18.4 21.8\n",
      " 17.1 20.9 14.6 12.6 12.2  9.4 15.9  6.6 15.5  7.  16.6 15.2 19.7 10.6\n",
      "  6.6 11.9 24.7  9.7  1.6 17.7  5.7 19.6 10.8 11.6  9.5 20.8  9.6 20.7\n",
      " 10.9 19.2 20.1 10.4 12.3 10.3 18.2 25.4 10.9 10.1 16.1 11.6 16.6 16.\n",
      " 20.6  3.2 15.3 10.1  7.3 12.9 16.4 13.3 19.9 18.  11.9 16.9  8.  17.2\n",
      " 17.1 20.   8.4 17.5  7.6 16.7 16.5 27.  20.2 16.7 16.8 17.6 15.5 17.2\n",
      "  8.7 26.2 17.6 22.6 10.3 17.3 20.9  6.7 10.8 11.9  5.9 19.6 17.3  7.6\n",
      " 14.  14.8 25.5 18.4]\n"
     ]
    }
   ],
   "source": [
    "#suddivido variabile indipendente da target\n",
    "target = 'Sales'\n",
    "X = advertising.drop(target, axis=1).values\n",
    "y = advertising[target].values\n",
    "\n",
    "print(X)\n",
    "print(y)"
   ]
  },
  {
   "cell_type": "code",
   "execution_count": 5,
   "id": "03e671a9",
   "metadata": {},
   "outputs": [],
   "source": [
    "from sklearn.model_selection import train_test_split"
   ]
  },
  {
   "cell_type": "markdown",
   "id": "94b4ee3b",
   "metadata": {},
   "source": [
    "splitto i dataset di train e test"
   ]
  },
  {
   "cell_type": "code",
   "execution_count": 6,
   "id": "70d8a6fd",
   "metadata": {},
   "outputs": [
    {
     "name": "stdout",
     "output_type": "stream",
     "text": [
      "(140, 1)\n",
      "(60, 1)\n",
      "(140,)\n",
      "(60,)\n"
     ]
    }
   ],
   "source": [
    "X_train, X_test, y_train, y_test = train_test_split(X,y, test_size=0.3)\n",
    "print(X_train.shape)\n",
    "print(X_test.shape)\n",
    "print(y_train.shape)\n",
    "print(y_test.shape)"
   ]
  },
  {
   "cell_type": "markdown",
   "id": "0677cb32",
   "metadata": {},
   "source": [
    "addestro il mio modello lineare"
   ]
  },
  {
   "cell_type": "code",
   "execution_count": 7,
   "id": "2ed7c4fd",
   "metadata": {},
   "outputs": [],
   "source": [
    "from sklearn.linear_model import LinearRegression"
   ]
  },
  {
   "cell_type": "code",
   "execution_count": 8,
   "id": "e7bc8641",
   "metadata": {},
   "outputs": [
    {
     "data": {
      "text/plain": [
       "array([[149.7],\n",
       "       [ 74.7],\n",
       "       [121. ],\n",
       "       [ 44.5],\n",
       "       [ 97.2],\n",
       "       [ 18.7],\n",
       "       [ 38. ],\n",
       "       [ 16.9],\n",
       "       [ 62.3],\n",
       "       [110.7],\n",
       "       [ 85.7],\n",
       "       [116. ],\n",
       "       [ 88.3],\n",
       "       [120.2],\n",
       "       [ 25.6],\n",
       "       [280.2],\n",
       "       [238.2],\n",
       "       [ 13.1],\n",
       "       [ 17.9],\n",
       "       [137.9],\n",
       "       [195.4],\n",
       "       [239.9],\n",
       "       [219.8],\n",
       "       [187.9],\n",
       "       [187.8],\n",
       "       [142.9],\n",
       "       [135.2],\n",
       "       [ 44.7],\n",
       "       [ 43.1],\n",
       "       [222.4],\n",
       "       [228. ],\n",
       "       [175.7],\n",
       "       [129.4],\n",
       "       [  0.7],\n",
       "       [ 80.2],\n",
       "       [136.2],\n",
       "       [296.4],\n",
       "       [ 93.9],\n",
       "       [276.9],\n",
       "       [222.4],\n",
       "       [206.9],\n",
       "       [ 13.2],\n",
       "       [  4.1],\n",
       "       [ 18.8],\n",
       "       [214.7],\n",
       "       [184.9],\n",
       "       [ 76.3],\n",
       "       [ 76.4],\n",
       "       [241.7],\n",
       "       [120.5],\n",
       "       [ 75.3],\n",
       "       [ 25.1],\n",
       "       [253.8],\n",
       "       [ 75.1],\n",
       "       [193.2],\n",
       "       [234.5],\n",
       "       [  7.8],\n",
       "       [ 17.2],\n",
       "       [ 69. ],\n",
       "       [  5.4],\n",
       "       [  8.4],\n",
       "       [248.8],\n",
       "       [ 53.5],\n",
       "       [229.5],\n",
       "       [ 27.5],\n",
       "       [140.3],\n",
       "       [ 11.7],\n",
       "       [262.9],\n",
       "       [240.1],\n",
       "       [283.6],\n",
       "       [243.2],\n",
       "       [151.5],\n",
       "       [290.7],\n",
       "       [180.8],\n",
       "       [164.5],\n",
       "       [165.6],\n",
       "       [239.3],\n",
       "       [286. ],\n",
       "       [250.9],\n",
       "       [206.8],\n",
       "       [218.4],\n",
       "       [266.9],\n",
       "       [280.7],\n",
       "       [255.4],\n",
       "       [177. ],\n",
       "       [204.1],\n",
       "       [228.3],\n",
       "       [ 43. ],\n",
       "       [ 23.8],\n",
       "       [ 66.9],\n",
       "       [ 78.2],\n",
       "       [281.4],\n",
       "       [209.6],\n",
       "       [227.2],\n",
       "       [284.3],\n",
       "       [225.8],\n",
       "       [ 76.4],\n",
       "       [230.1],\n",
       "       [ 19.6],\n",
       "       [215.4],\n",
       "       [199.8],\n",
       "       [182.6],\n",
       "       [ 59.6],\n",
       "       [ 25. ],\n",
       "       [184.9],\n",
       "       [265.6],\n",
       "       [ 50. ],\n",
       "       [ 95.7],\n",
       "       [198.9],\n",
       "       [168.4],\n",
       "       [139.5],\n",
       "       [ 94.2],\n",
       "       [213.4],\n",
       "       [ 36.9],\n",
       "       [ 97.5],\n",
       "       [199.1],\n",
       "       [175.1],\n",
       "       [218.5],\n",
       "       [213.5],\n",
       "       [134.3],\n",
       "       [237.4],\n",
       "       [ 48.3],\n",
       "       [217.7],\n",
       "       [131.7],\n",
       "       [ 73.4],\n",
       "       [  8.7],\n",
       "       [102.7],\n",
       "       [289.7],\n",
       "       [273.7],\n",
       "       [205. ],\n",
       "       [ 96.2],\n",
       "       [156.6],\n",
       "       [ 70.6],\n",
       "       [188.4],\n",
       "       [104.6],\n",
       "       [292.9],\n",
       "       [202.5],\n",
       "       [125.7],\n",
       "       [171.3],\n",
       "       [216.8]])"
      ]
     },
     "execution_count": 8,
     "metadata": {},
     "output_type": "execute_result"
    }
   ],
   "source": [
    "X_train"
   ]
  },
  {
   "cell_type": "code",
   "execution_count": 9,
   "id": "6514ad99",
   "metadata": {},
   "outputs": [],
   "source": [
    "lr = LinearRegression()\n",
    "lr.fit(X_train, y_train)\n",
    "y_pred = lr.predict(X_test)\n"
   ]
  },
  {
   "cell_type": "code",
   "execution_count": 10,
   "id": "9adadf87",
   "metadata": {},
   "outputs": [],
   "source": [
    "from sklearn.metrics import mean_squared_error, r2_score"
   ]
  },
  {
   "cell_type": "code",
   "execution_count": 11,
   "id": "5ad6eb49",
   "metadata": {},
   "outputs": [
    {
     "name": "stdout",
     "output_type": "stream",
     "text": [
      "mse: 5.329326204673994, r2s: 0.7727692185256725\n"
     ]
    }
   ],
   "source": [
    "mse = mean_squared_error(y_test, y_pred)\n",
    "r2s = r2_score(y_test, y_pred)\n",
    "\n",
    "print(f\"mse: {mse}, r2s: {r2s}\")"
   ]
  },
  {
   "cell_type": "markdown",
   "id": "ecffd0f5",
   "metadata": {},
   "source": [
    "andiamo a mostrare graficamente il risultato"
   ]
  },
  {
   "cell_type": "code",
   "execution_count": 12,
   "id": "6b97a97d",
   "metadata": {},
   "outputs": [],
   "source": [
    "import matplotlib.pyplot as plt"
   ]
  },
  {
   "cell_type": "code",
   "execution_count": 13,
   "id": "e433c675",
   "metadata": {},
   "outputs": [
    {
     "data": {
      "text/plain": [
       "[<matplotlib.lines.Line2D at 0x2284995fb10>]"
      ]
     },
     "execution_count": 13,
     "metadata": {},
     "output_type": "execute_result"
    },
    {
     "data": {
      "image/png": "[encoded data removed]",
      "text/plain": [
       "<Figure size 640x480 with 1 Axes>"
      ]
     },
     "metadata": {},
     "output_type": "display_data"
    }
   ],
   "source": [
    "plt.scatter(X_train, y_train, c=\"green\", edgecolor=\"white\", label=\"marketing in tv per vendite\")\n",
    "plt.xlabel('marketing tv')\n",
    "plt.ylabel('vendite')\n",
    "plt.legend('up left')\n",
    "plt.plot(X_test, y_pred)"
   ]
  },
  {
   "cell_type": "code",
   "execution_count": 14,
   "id": "3b89a276",
   "metadata": {},
   "outputs": [
    {
     "name": "stdout",
     "output_type": "stream",
     "text": [
      "coef: 0.05635917859224704, intercepta: 6.850696587815577\n"
     ]
    }
   ],
   "source": [
    "print(f\"coef: {lr.coef_[0]}, intercepta: {lr.intercept_}\")"
   ]
  }
 ],
 "metadata": {
  "kernelspec": {
   "display_name": "Python 3",
   "language": "python",
   "name": "python3"
  },
  "language_info": {
   "codemirror_mode": {
    "name": "ipython",
    "version": 3
   },
   "file_extension": ".py",
   "mimetype": "text/x-python",
   "name": "python",
   "nbconvert_exporter": "python",
   "pygments_lexer": "ipython3",
   "version": "3.13.5"
  }
 },
 "nbformat": 4,
 "nbformat_minor": 5
}
